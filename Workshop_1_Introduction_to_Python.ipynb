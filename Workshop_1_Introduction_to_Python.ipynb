{
  "nbformat": 4,
  "nbformat_minor": 0,
  "metadata": {
    "kernelspec": {
      "display_name": "Python 3",
      "language": "python",
      "name": "python3"
    },
    "language_info": {
      "codemirror_mode": {
        "name": "ipython",
        "version": 3
      },
      "file_extension": ".py",
      "mimetype": "text/x-python",
      "name": "python",
      "nbconvert_exporter": "python",
      "pygments_lexer": "ipython3",
      "version": "3.6.5"
    },
    "colab": {
      "name": "Python_BasicDataExplor_ControlLoop_Workshop_2019.ipynb",
      "provenance": []
    }
  },
  "cells": [
    {
      "cell_type": "markdown",
      "metadata": {
        "id": "XQ-0pFf5oB_3",
        "colab_type": "text"
      },
      "source": [
        "## Getting started"
      ]
    },
    {
      "cell_type": "markdown",
      "metadata": {
        "id": "MifxXuQ3oB_4",
        "colab_type": "text"
      },
      "source": [
        "Before we begin, let's cover a few basics about Jupyter (also known as iPython) notebooks. To run the cell, and go to the next cell, press Shift+Enter. If you want to run the cell without advancing to the next, press Ctrl+Enter.\n",
        "\n",
        " IPython is the interactive control panel "
      ]
    },
    {
      "cell_type": "markdown",
      "metadata": {
        "id": "GB0Ss-LEoB_6",
        "colab_type": "text"
      },
      "source": [
        "### Variable assignment, basic calculations, and data types"
      ]
    },
    {
      "cell_type": "code",
      "metadata": {
        "id": "WTew5nazoB_7",
        "colab_type": "code",
        "colab": {}
      },
      "source": [
        "## CODE CELL 1\n",
        "# This is a comment. Comments will not appear in the output when a cell is run.\n",
        "\n",
        "a = 45    # assigning the value 45 to the letter \"a\"\n",
        "print(a)"
      ],
      "execution_count": 0,
      "outputs": []
    },
    {
      "cell_type": "markdown",
      "metadata": {
        "id": "7G-fBmPQoCAB",
        "colab_type": "text"
      },
      "source": [
        "As you may have guessed, the `print()` function displays the value of the argument that's passed to it (e.g. whatever is inside the parentheses)."
      ]
    },
    {
      "cell_type": "code",
      "metadata": {
        "id": "01NzlHx6oCAC",
        "colab_type": "code",
        "colab": {}
      },
      "source": [
        "## CODE CELL 2\n",
        "# Let's assign a couple more variables \n",
        "b = 12\n",
        "c = a + b\n",
        "print(c)"
      ],
      "execution_count": 0,
      "outputs": []
    },
    {
      "cell_type": "code",
      "metadata": {
        "id": "2HIZgQ0goCAI",
        "colab_type": "code",
        "colab": {}
      },
      "source": [
        "## CODE CELL 3\n",
        "# Let's increment \"c\" by 2\n",
        "## you can add multiples commas and different type of datatype and print function will work\n",
        "\n",
        "print('c =', c)\n",
        "c = c + 2\n",
        "print('c + 2 =', c)"
      ],
      "execution_count": 0,
      "outputs": []
    },
    {
      "cell_type": "markdown",
      "metadata": {
        "id": "HdhCUBAnoCAM",
        "colab_type": "text"
      },
      "source": [
        "Try running the previous cell again. What happens?"
      ]
    },
    {
      "cell_type": "code",
      "metadata": {
        "id": "zBltSHoBoCAN",
        "colab_type": "code",
        "colab": {}
      },
      "source": [
        "## CODE CELL 4\n",
        "# Another useful method to increment\n",
        "\n",
        "print('c =', c)\n",
        "c += 2\n",
        "print('Now c =', c)"
      ],
      "execution_count": 0,
      "outputs": []
    },
    {
      "cell_type": "markdown",
      "metadata": {
        "id": "30vJupL7oCAR",
        "colab_type": "text"
      },
      "source": [
        "Decrementing works similarly (the operator is `-=`)\n",
        "Other useful operations:\n",
        "\n",
        "- subtraction: `a - b`\n",
        "- multiplication: `a * b`\n",
        "- division: `a / b`\n",
        "- floor division (the integer part, or quotient, of a division operation): `a // b`\n",
        "- modulo (remainder): `a % b`"
      ]
    },
    {
      "cell_type": "code",
      "metadata": {
        "id": "8KeZelwioCAS",
        "colab_type": "code",
        "colab": {}
      },
      "source": [
        "## CODE CELL 5\n",
        "# Some of the above in action\n",
        "print('a', a)\n",
        "print('b', b)\n",
        "div = a/b\n",
        "print('a / b is', div)\n",
        "floor = a//b\n",
        "##floor function is used to return the closest integer value which is less than or equal to the specified expression or Value.\n",
        "print('a // b is', floor)\n",
        "mod = a%b\n",
        "print('a % b is', mod)"
      ],
      "execution_count": 0,
      "outputs": []
    },
    {
      "cell_type": "markdown",
      "metadata": {
        "id": "k1iiPiQzoCAa",
        "colab_type": "text"
      },
      "source": [
        "So far, you've seen three data types: strings, integers, and floats. We can use the function `type()` to find out what data type a value or variable represents."
      ]
    },
    {
      "cell_type": "code",
      "metadata": {
        "id": "nDIxMPxVoCAf",
        "colab_type": "code",
        "colab": {}
      },
      "source": [
        "## CODE CELL 6\n",
        "\n",
        "type(3.75)      # this is a float\n",
        "#A float is a floating-point number, which means it is a number that has a decimal place. "
      ],
      "execution_count": 0,
      "outputs": []
    },
    {
      "cell_type": "code",
      "metadata": {
        "id": "TVQ7Vp6MoCAn",
        "colab_type": "code",
        "colab": {}
      },
      "source": [
        "## CODE CELL 7\n",
        "\n",
        "type(3)     # this is an integer\n",
        "# A string is a sequence of characters"
      ],
      "execution_count": 0,
      "outputs": []
    },
    {
      "cell_type": "code",
      "metadata": {
        "scrolled": true,
        "id": "lxFDEf6woCAr",
        "colab_type": "code",
        "colab": {}
      },
      "source": [
        "## CODE CELL 8\n",
        "\n",
        "type('This is a string.')      # this is a string"
      ],
      "execution_count": 0,
      "outputs": []
    },
    {
      "cell_type": "code",
      "metadata": {
        "id": "UU_Kl_cRoCAv",
        "colab_type": "code",
        "colab": {}
      },
      "source": [
        "## CODE CELL 9\n",
        "\n",
        "type(\"This is also a string.\")     # double quotes or single quotes can be used"
      ],
      "execution_count": 0,
      "outputs": []
    },
    {
      "cell_type": "markdown",
      "metadata": {
        "id": "9nGLu9f8oCAz",
        "colab_type": "text"
      },
      "source": [
        "The `math` module is part of the standard library and has a lot of useful functions. To use it, we need to import it into this notebook."
      ]
    },
    {
      "cell_type": "code",
      "metadata": {
        "id": "RlFBW4GSoCA0",
        "colab_type": "code",
        "colab": {}
      },
      "source": [
        "## CODE CELL 10\n",
        "\n",
        "import math\n",
        "\n",
        "math.sqrt(9)"
      ],
      "execution_count": 0,
      "outputs": []
    },
    {
      "cell_type": "code",
      "metadata": {
        "id": "CKyePilooCA3",
        "colab_type": "code",
        "colab": {},
        "outputId": "2b9c0dc5-4dca-4516-e250-1792f1f672ff"
      },
      "source": [
        "## CODE CELL 11\n",
        "\n",
        "math.pi"
      ],
      "execution_count": 0,
      "outputs": [
        {
          "output_type": "execute_result",
          "data": {
            "text/plain": [
              "3.141592653589793"
            ]
          },
          "metadata": {
            "tags": []
          },
          "execution_count": 13
        }
      ]
    },
    {
      "cell_type": "markdown",
      "metadata": {
        "id": "jI94o3DMoCA7",
        "colab_type": "text"
      },
      "source": [
        "To learn more about the various functions belonging to the `math` module, call the `help()` function on it. Alternatively, you can read the online documentation for this module here: https://docs.python.org/3/library/math.html. This applies to any module, class, function, etc. that you may want more information on."
      ]
    },
    {
      "cell_type": "code",
      "metadata": {
        "id": "P4dMWyYLoCA8",
        "colab_type": "code",
        "colab": {}
      },
      "source": [
        "## CODE CELL 12\n",
        "### explain about specific function in a package\n",
        "\n",
        "help(math)"
      ],
      "execution_count": 0,
      "outputs": []
    },
    {
      "cell_type": "markdown",
      "metadata": {
        "collapsed": true,
        "id": "_6zVQWrPoCBB",
        "colab_type": "text"
      },
      "source": [
        "To convert a number from a float into an integer, use the function `int()`:"
      ]
    },
    {
      "cell_type": "code",
      "metadata": {
        "scrolled": true,
        "id": "03rse1paoCBC",
        "colab_type": "code",
        "colab": {}
      },
      "source": [
        "## CODE CELL 13\n",
        "## casting of integer to string\n",
        "\n",
        "a = int(6.0)\n",
        "type(a)"
      ],
      "execution_count": 0,
      "outputs": []
    },
    {
      "cell_type": "markdown",
      "metadata": {
        "id": "vbdmRncJoCBH",
        "colab_type": "text"
      },
      "source": [
        "Conversely, you can convert an integer into a float using `float()`:"
      ]
    },
    {
      "cell_type": "code",
      "metadata": {
        "id": "CaOXa8I9oCBI",
        "colab_type": "code",
        "colab": {}
      },
      "source": [
        "## CODE CELL 14\n",
        "\n",
        "float(6)"
      ],
      "execution_count": 0,
      "outputs": []
    },
    {
      "cell_type": "markdown",
      "metadata": {
        "id": "uT73mT46oCBP",
        "colab_type": "text"
      },
      "source": [
        "What if we have a number in string format?"
      ]
    },
    {
      "cell_type": "code",
      "metadata": {
        "id": "Yod9_lBAoCBQ",
        "colab_type": "code",
        "colab": {}
      },
      "source": [
        "## CODE CELL 15\n",
        "# This doesn't work\n",
        "\n",
        "'6.5'+7"
      ],
      "execution_count": 0,
      "outputs": []
    },
    {
      "cell_type": "code",
      "metadata": {
        "id": "G0PIfGJPoCBU",
        "colab_type": "code",
        "colab": {}
      },
      "source": [
        "## CODE CELL 16\n",
        "# This works\n",
        "\n",
        "float('6.5')+7"
      ],
      "execution_count": 0,
      "outputs": []
    },
    {
      "cell_type": "markdown",
      "metadata": {
        "id": "qloh42CYoCBZ",
        "colab_type": "text"
      },
      "source": [
        "If we want to convert an integer or float to a string, we can use the function `str()`:"
      ]
    },
    {
      "cell_type": "code",
      "metadata": {
        "id": "btTmE_ZpoCBc",
        "colab_type": "code",
        "colab": {}
      },
      "source": [
        "## CODE CELL 17\n",
        "\n",
        "str(100)"
      ],
      "execution_count": 0,
      "outputs": []
    },
    {
      "cell_type": "markdown",
      "metadata": {
        "id": "Bpa84AAAoCBr",
        "colab_type": "text"
      },
      "source": [
        "### Strings: cleaning and manipulation"
      ]
    },
    {
      "cell_type": "markdown",
      "metadata": {
        "id": "PuIpsR1RoCBt",
        "colab_type": "text"
      },
      "source": [
        "Indexing in Python starts from 0. That means that the first element of any string, list, array, etc. is actually considered to be element # 0."
      ]
    },
    {
      "cell_type": "code",
      "metadata": {
        "id": "EHzvV3O9oCBu",
        "colab_type": "code",
        "colab": {}
      },
      "source": [
        "## CODE CELL 18\n",
        "\n",
        "myString = 'Rutgers is one of the top 10 oldest colleges in the U.S.'"
      ],
      "execution_count": 0,
      "outputs": []
    },
    {
      "cell_type": "markdown",
      "metadata": {
        "id": "jIMoLNZuoCBz",
        "colab_type": "text"
      },
      "source": [
        "Accessing characters in the string:"
      ]
    },
    {
      "cell_type": "code",
      "metadata": {
        "id": "IOOCnUtLoCB0",
        "colab_type": "code",
        "colab": {}
      },
      "source": [
        "## CODE CELL 19\n",
        "\n",
        "myString[0]"
      ],
      "execution_count": 0,
      "outputs": []
    },
    {
      "cell_type": "code",
      "metadata": {
        "id": "VfdqJrQ0oCB3",
        "colab_type": "code",
        "colab": {}
      },
      "source": [
        "## CODE CELL 20\n",
        "\n",
        "myString[1]"
      ],
      "execution_count": 0,
      "outputs": []
    },
    {
      "cell_type": "markdown",
      "metadata": {
        "id": "NKpiknswoCB8",
        "colab_type": "text"
      },
      "source": [
        "You can also access characters with reference to the end of the string:"
      ]
    },
    {
      "cell_type": "code",
      "metadata": {
        "id": "dMKK4XEeoCB9",
        "colab_type": "code",
        "colab": {}
      },
      "source": [
        "## CODE CELL 21\n",
        "\n",
        "myString[-1]"
      ],
      "execution_count": 0,
      "outputs": []
    },
    {
      "cell_type": "code",
      "metadata": {
        "id": "SxastzlCoCCA",
        "colab_type": "code",
        "colab": {}
      },
      "source": [
        "## CODE CELL 22\n",
        "\n",
        "myString[-2]"
      ],
      "execution_count": 0,
      "outputs": []
    },
    {
      "cell_type": "markdown",
      "metadata": {
        "id": "HGg2RESooCCC",
        "colab_type": "text"
      },
      "source": [
        "To access larger portions (called \"slices\") of the string, we can use the following syntax: $string[startIndex:endIndex:stepSize]$. The string returned will start from the character at index $startIndex$, but it will end with the character at index $endIndex-1$. If not specified, $stepSize$ = 1, $startIndex$ = 0, and $endIndex$ = one beyond the last index.\n",
        "For example,"
      ]
    },
    {
      "cell_type": "code",
      "metadata": {
        "id": "41GI_6MpoCCD",
        "colab_type": "code",
        "colab": {}
      },
      "source": [
        "## CODE CELL 23\n",
        "\n",
        "myString[5:11]"
      ],
      "execution_count": 0,
      "outputs": []
    },
    {
      "cell_type": "code",
      "metadata": {
        "id": "iHlICgAqoCCL",
        "colab_type": "code",
        "colab": {}
      },
      "source": [
        "## CODE CELL 24\n",
        "\n",
        "myString[1:11:2]"
      ],
      "execution_count": 0,
      "outputs": []
    },
    {
      "cell_type": "code",
      "metadata": {
        "id": "VRbo3m1KoCCP",
        "colab_type": "code",
        "colab": {}
      },
      "source": [
        "## CODE CELL 25\n",
        "\n",
        "myString[:11]"
      ],
      "execution_count": 0,
      "outputs": []
    },
    {
      "cell_type": "code",
      "metadata": {
        "id": "nh0diirBoCCV",
        "colab_type": "code",
        "colab": {}
      },
      "source": [
        "## CODE CELL 26\n",
        "\n",
        "myString[11:]"
      ],
      "execution_count": 0,
      "outputs": []
    },
    {
      "cell_type": "code",
      "metadata": {
        "id": "7QTpBEv1oCCb",
        "colab_type": "code",
        "colab": {}
      },
      "source": [
        "## CODE CELL 27\n",
        "\n",
        "myString[:]"
      ],
      "execution_count": 0,
      "outputs": []
    },
    {
      "cell_type": "markdown",
      "metadata": {
        "id": "aFrNVP9QoCCg",
        "colab_type": "text"
      },
      "source": [
        "What do you think this will yield?"
      ]
    },
    {
      "cell_type": "code",
      "metadata": {
        "id": "9CLY01MtoCCg",
        "colab_type": "code",
        "colab": {}
      },
      "source": [
        "## CODE CELL 28\n",
        "\n",
        "myString[-3:11:-1]"
      ],
      "execution_count": 0,
      "outputs": []
    },
    {
      "cell_type": "markdown",
      "metadata": {
        "id": "q8nB2NMioCCj",
        "colab_type": "text"
      },
      "source": [
        "Let's look at other useful string operations."
      ]
    },
    {
      "cell_type": "code",
      "metadata": {
        "id": "raJxOP2zoCCk",
        "colab_type": "code",
        "colab": {}
      },
      "source": [
        "## CODE CELL 29\n",
        "# How long is the string?\n",
        "\n",
        "len(myString)"
      ],
      "execution_count": 0,
      "outputs": []
    },
    {
      "cell_type": "code",
      "metadata": {
        "id": "nC-wDyp2oCCm",
        "colab_type": "code",
        "colab": {}
      },
      "source": [
        "## CODE CELL 30\n",
        "# Concatenation\n",
        "\n",
        "myString2 = '; it was originally \"Queen\\'s College\".'\n",
        "print(myString + myString2)"
      ],
      "execution_count": 0,
      "outputs": []
    },
    {
      "cell_type": "markdown",
      "metadata": {
        "id": "O65RXkRWoCCr",
        "colab_type": "text"
      },
      "source": [
        "**Exercise 1:**\n",
        "\n",
        "Take the following two \"sentences\": (1) Next bus: 7 minutes. (2) Travel time on bus: 5 minutes. Using string indexing, extract the number of minutes for each activity, add the two numbers to get the total time (variable *total*), and print the following message using concatentation: \"Next bus: 7 minutes. Travel time on bus: 5 minutes. Total time to destination: *total*\".\n",
        "\n",
        "*Hint: You will have to do at least one data type conversion.*"
      ]
    },
    {
      "cell_type": "markdown",
      "metadata": {
        "id": "hvDrQA3QoCCs",
        "colab_type": "text"
      },
      "source": [
        "**Answer 1:**"
      ]
    },
    {
      "cell_type": "code",
      "metadata": {
        "id": "RgOJ7mqEoCCt",
        "colab_type": "code",
        "colab": {}
      },
      "source": [
        "## CODE CELL 31\n",
        "\n",
        "sentence1 = 'Next bus: 7 minutes.'\n",
        "sentence2 = 'Travel time on bus: 5 minutes.'\n",
        "sentence3 = 'Total time to destination:'\n",
        "\n",
        "## ENTER CODE HERE \n",
        "\n"
      ],
      "execution_count": 0,
      "outputs": []
    },
    {
      "cell_type": "markdown",
      "metadata": {
        "id": "bPdi6mKooCCw",
        "colab_type": "text"
      },
      "source": [
        "\n",
        "\n",
        "There's a lot you can do with strings! Let's go through a few useful methods:"
      ]
    },
    {
      "cell_type": "code",
      "metadata": {
        "id": "vWocCWfToCCw",
        "colab_type": "code",
        "colab": {}
      },
      "source": [
        "## CODE CELL 32\n",
        "# Converting to all lower case\n",
        "\n",
        "new = 'RU'\n",
        "new.lower()"
      ],
      "execution_count": 0,
      "outputs": []
    },
    {
      "cell_type": "code",
      "metadata": {
        "id": "oobP5e9YoCCz",
        "colab_type": "code",
        "colab": {}
      },
      "source": [
        "## CODE CELL 33\n",
        "# Converting to all upper case\n",
        "\n",
        "new.lower().upper()"
      ],
      "execution_count": 0,
      "outputs": []
    },
    {
      "cell_type": "markdown",
      "metadata": {
        "id": "QDZlnnAnoCC2",
        "colab_type": "text"
      },
      "source": [
        "Notice that you can use multiple methods in the same line; in the above cell, the method `str.upper()` is executed on the string to the left of the dot before `upper()`, which in this case is `new.lower()`."
      ]
    },
    {
      "cell_type": "code",
      "metadata": {
        "id": "j_7YrNrPoCC2",
        "colab_type": "code",
        "colab": {}
      },
      "source": [
        "## CODE CELL 34\n",
        "# Removing leading and trailing characters\n",
        "\n",
        "s = 'aaaabcccHow are you doing?aayzz'\n",
        "s.strip('aaaabccc')"
      ],
      "execution_count": 0,
      "outputs": []
    },
    {
      "cell_type": "code",
      "metadata": {
        "id": "QJ9DzcKFoCC6",
        "colab_type": "code",
        "colab": {}
      },
      "source": [
        "## CODE CELL 35\n",
        "# Removing leading and trailing whitespace\n",
        "\n",
        "t = '  Could be worse.  '\n",
        "t = t.strip()"
      ],
      "execution_count": 0,
      "outputs": []
    },
    {
      "cell_type": "code",
      "metadata": {
        "id": "-kswxzIQoCC-",
        "colab_type": "code",
        "colab": {}
      },
      "source": [
        "## CODE CELL 36\n",
        "# Removing leading characters only\n",
        "\n",
        "u = '???How is the family?'\n",
        "u.lstrip('?')"
      ],
      "execution_count": 0,
      "outputs": []
    },
    {
      "cell_type": "code",
      "metadata": {
        "id": "iIaj1cV3oCDE",
        "colab_type": "code",
        "colab": {}
      },
      "source": [
        "## CODE CELL 37\n",
        "# Removing trailing characters only\n",
        "\n",
        "v = '...Alice twisted her ankle playing basketball on Saturday...'\n",
        "v.rstrip('.')"
      ],
      "execution_count": 0,
      "outputs": []
    },
    {
      "cell_type": "code",
      "metadata": {
        "id": "JMkCLFbioCDH",
        "colab_type": "code",
        "colab": {}
      },
      "source": [
        "## CODE CELL 38\n",
        "# Finding the first position(index) of a character \n",
        "\n",
        "v.find('l')"
      ],
      "execution_count": 0,
      "outputs": []
    },
    {
      "cell_type": "code",
      "metadata": {
        "id": "m_nvn3gxoCDM",
        "colab_type": "code",
        "colab": {}
      },
      "source": [
        "## CODE CELL 39\n",
        "# str.find() can also be used for a substring; it returns the index of the first character in the substring\n",
        "\n",
        "v.find('Alice')"
      ],
      "execution_count": 0,
      "outputs": []
    },
    {
      "cell_type": "code",
      "metadata": {
        "id": "6HZqva-PoCDP",
        "colab_type": "code",
        "colab": {}
      },
      "source": [
        "## CODE CELL 40\n",
        "# Replacing all instances of a character or substring\n",
        "\n",
        "y = 'Day 1: Prep. Day 2: Execute. Day 3: Review.'\n",
        "y.replace('Day ', '')"
      ],
      "execution_count": 0,
      "outputs": []
    },
    {
      "cell_type": "markdown",
      "metadata": {
        "id": "E6CJDtTjoCDT",
        "colab_type": "text"
      },
      "source": [
        "Notice that you can remove characters from a string by substituting in an empty string. Strings are immutable; that is, you can't add characters to or remove characters from a string. You can create a new string through concatenation or slicing that has more or fewer characters, **but the original string cannot be altered**. Whenever you apply a method to a string, you're just creating a new string. (You can assign the new string to the original variable and thereby appear to \"change\" the original string, but you are still creating a new string in the process. The original variable simply stores the new string instead of the old string.)"
      ]
    },
    {
      "cell_type": "code",
      "metadata": {
        "id": "AeErvNBJoCDU",
        "colab_type": "code",
        "colab": {}
      },
      "source": [
        "## CODE CELL 41\n",
        "\n",
        "y    # y still has its original value"
      ],
      "execution_count": 0,
      "outputs": []
    },
    {
      "cell_type": "code",
      "metadata": {
        "id": "sy_6-1GRoCDZ",
        "colab_type": "code",
        "colab": {}
      },
      "source": [
        "## CODE CELL 42\n",
        "# To \"save your changes\", assign the new string to a variable\n",
        "\n",
        "new_y = y.replace('Day ', '')\n",
        "new_y"
      ],
      "execution_count": 0,
      "outputs": []
    },
    {
      "cell_type": "code",
      "metadata": {
        "id": "zqKKVUbXoCDb",
        "colab_type": "code",
        "colab": {}
      },
      "source": [
        "## CODE CELL 43\n",
        "# Splitting a string into a list of words\n",
        "\n",
        "z = 'Once upon a time in a land far, far away...'\n",
        "z.split()"
      ],
      "execution_count": 0,
      "outputs": []
    },
    {
      "cell_type": "markdown",
      "metadata": {
        "id": "Qw3zN8qUoCDe",
        "colab_type": "text"
      },
      "source": [
        "** The escape character **\n",
        "\n",
        "Let's look at the following string:"
      ]
    },
    {
      "cell_type": "code",
      "metadata": {
        "id": "a-weV2DHoCDf",
        "colab_type": "code",
        "colab": {}
      },
      "source": [
        "## CODE CELL 44\n",
        "# What happens when you try to print it?\n",
        "\n",
        "print('We will meet at 4 o'clock.')"
      ],
      "execution_count": 0,
      "outputs": []
    },
    {
      "cell_type": "markdown",
      "metadata": {
        "id": "-cEckkanoCDi",
        "colab_type": "text"
      },
      "source": [
        "What happened? Essentially, once you start a string with a single quote, Python will take the next single quote it sees as a signal to end the string (and similarly with double quotes). Here, that means that {clock.} is seen as something undefined that is outside the string - and Python does not like this. \n",
        "\n",
        "There are two ways around this. One is to use the \"other\" quotation mark type inside the string - so if you're using single quotes inside the string, use double quotes around the string, and vice versa. The other is \"escaping\" the internal quotation marks by using a backslash (\"\\\") just before the quotation mark like so:"
      ]
    },
    {
      "cell_type": "code",
      "metadata": {
        "id": "EzL36U6loCDj",
        "colab_type": "code",
        "colab": {}
      },
      "source": [
        "## CODE CELL 45\n",
        "# Python is ok with this\n",
        "\n",
        "print('We will meet at 4 o\\'clock.')"
      ],
      "execution_count": 0,
      "outputs": []
    },
    {
      "cell_type": "markdown",
      "metadata": {
        "id": "4AYf3IMCoCDo",
        "colab_type": "text"
      },
      "source": [
        "This way, we're letting Python know that the internal single quotes should be treated as part of the ongoing string.\n"
      ]
    },
    {
      "cell_type": "markdown",
      "metadata": {
        "id": "9Rq4VrecoCDq",
        "colab_type": "text"
      },
      "source": [
        "Finally, how can we introduce whitespace characters like tabs into a string? Answer: we use escape sequences."
      ]
    },
    {
      "cell_type": "code",
      "metadata": {
        "id": "JGtKk-KHoCDs",
        "colab_type": "code",
        "colab": {}
      },
      "source": [
        "## CODE CELL 46\n",
        "# To introduce a tab character, use \\t\n",
        "\n",
        "score = 'Home:\\t16'\n",
        "print(score)"
      ],
      "execution_count": 0,
      "outputs": []
    },
    {
      "cell_type": "code",
      "metadata": {
        "id": "9mdww84NoCDx",
        "colab_type": "code",
        "colab": {}
      },
      "source": [
        "## CODE CELL 47\n",
        "# To introduce a newline character (similar to pressing Enter on your keyboard), use \\n\n",
        "\n",
        "scores = 'Home:\\t16\\nAway:\\t24'\n",
        "print(scores)"
      ],
      "execution_count": 0,
      "outputs": []
    },
    {
      "cell_type": "markdown",
      "metadata": {
        "collapsed": true,
        "id": "s40R600soCD0",
        "colab_type": "text"
      },
      "source": [
        "### Lists: working with a data collection"
      ]
    },
    {
      "cell_type": "markdown",
      "metadata": {
        "id": "6kO9UUSWoCD1",
        "colab_type": "text"
      },
      "source": [
        "Many of the operations we used with strings can be applied to lists as well, including\n",
        "- indexing\n",
        "- slicing\n",
        "- finding the length\n",
        "- concatenation"
      ]
    },
    {
      "cell_type": "code",
      "metadata": {
        "id": "7UVSHSW5oCD2",
        "colab_type": "code",
        "colab": {}
      },
      "source": [
        "## CODE CELL 48\n",
        "# Creating a list of the top 40 U.S. cities by population\n",
        "\n",
        "topcities = ['New York', 'Los Angeles', 'Chicago', 'Houston', 'Philadelphia', 'Phoenix', 'San Antonio', 'San Diego',\n",
        "         'Dallas', 'San Jose', 'Austin', 'Jacksonville', 'San Francisco', 'Indianapolis', 'Columbus', 'Fort Worth',\n",
        "         'Charlotte', 'Seattle', 'Denver', 'El Paso', 'Detroit', 'Washington', 'Boston', 'Memphis', 'Nashville', 'Portland',\n",
        "         'Oklahoma City', 'Las Vegas', 'Baltimore', 'Louisville', 'Milwaukee', 'Albuquerque', 'Tucson', 'Fresno', 'Sacramento',\n",
        "         'Kansas City', 'Long Beach', 'Mesa', 'Atlanta', 'Colorado Springs']\n",
        "print(topcities)"
      ],
      "execution_count": 0,
      "outputs": []
    },
    {
      "cell_type": "code",
      "metadata": {
        "id": "YlQxuK74oCD4",
        "colab_type": "code",
        "colab": {}
      },
      "source": [
        "## CODE CELL 49\n",
        "# Which is the 5th most populous city?\n",
        "\n",
        "topcities[4]"
      ],
      "execution_count": 0,
      "outputs": []
    },
    {
      "cell_type": "code",
      "metadata": {
        "id": "abCT57pqoCD7",
        "colab_type": "code",
        "colab": {}
      },
      "source": [
        "## CODE CELL 50\n",
        "# Which cities are ranked #11-#20?\n",
        "\n",
        "topcities[10:20]"
      ],
      "execution_count": 0,
      "outputs": []
    },
    {
      "cell_type": "code",
      "metadata": {
        "id": "OXY0zGhkoCD_",
        "colab_type": "code",
        "colab": {}
      },
      "source": [
        "## CODE CELL 51\n",
        "# Are there really 40 cities in the list?\n",
        "\n",
        "len(topcities)"
      ],
      "execution_count": 0,
      "outputs": []
    },
    {
      "cell_type": "code",
      "metadata": {
        "id": "9ZkK6o6hoCEC",
        "colab_type": "code",
        "colab": {}
      },
      "source": [
        "## CODE CELL 52\n",
        "# Let's add the next 5 cities to topcities\n",
        "\n",
        "cities41to45 = ['Virginia Beach', 'Raleigh', 'Omaha', 'Miami', 'Oakland']\n",
        "topcities + cities41to45"
      ],
      "execution_count": 0,
      "outputs": []
    },
    {
      "cell_type": "markdown",
      "metadata": {
        "id": "wGDB33z3oCEE",
        "colab_type": "text"
      },
      "source": [
        "However, **lists, unlike strings, are mutable** - their identities can be changed in-place without creating a new list."
      ]
    },
    {
      "cell_type": "code",
      "metadata": {
        "id": "UBMtD9AroCEF",
        "colab_type": "code",
        "colab": {}
      },
      "source": [
        "## CODE CELL 53\n",
        "# Another way to add multiple items to the list is to use the \"extend\" method\n",
        "\n",
        "topcities.extend(cities41to45)\n",
        "len(topcities)\n",
        "#print(topcities)"
      ],
      "execution_count": 0,
      "outputs": []
    },
    {
      "cell_type": "code",
      "metadata": {
        "id": "gtpkhg5roCEK",
        "colab_type": "code",
        "colab": {}
      },
      "source": [
        "## CODE CELL 54\n",
        "# You can also add items one at a time using the \"append\" method\n",
        "\n",
        "topcities.append('Minneapolis')\n",
        "topcities[-2:]   # let's just look at the end of the list"
      ],
      "execution_count": 0,
      "outputs": []
    },
    {
      "cell_type": "code",
      "metadata": {
        "id": "eup1m9CBoCEO",
        "colab_type": "code",
        "colab": {}
      },
      "source": [
        "## CODE CELL 55\n",
        "# Is Orlando in the list?\n",
        "\n",
        "'Orlando' in topcities"
      ],
      "execution_count": 0,
      "outputs": []
    },
    {
      "cell_type": "code",
      "metadata": {
        "id": "aPrKf73ZoCEQ",
        "colab_type": "code",
        "colab": {}
      },
      "source": [
        "## CODE CELL 56\n",
        "# Is Dallas in the list?\n",
        "\n",
        "'Dallas' in topcities"
      ],
      "execution_count": 0,
      "outputs": []
    },
    {
      "cell_type": "code",
      "metadata": {
        "id": "thwR1Oz1oCEY",
        "colab_type": "code",
        "colab": {}
      },
      "source": [
        "## CODE CELL 57\n",
        "# Which position is Dallas in?\n",
        "\n",
        "topcities.index('Dallas')"
      ],
      "execution_count": 0,
      "outputs": []
    },
    {
      "cell_type": "code",
      "metadata": {
        "id": "F2G_7sPCoCEa",
        "colab_type": "code",
        "colab": {}
      },
      "source": [
        "## CODE CELL 58\n",
        "# Let's get the list in alphabetical order\n",
        "\n",
        "topcities.sort()\n",
        "topcities[:10]   # just looking at the first 10 to verify sorting"
      ],
      "execution_count": 0,
      "outputs": []
    },
    {
      "cell_type": "code",
      "metadata": {
        "id": "n1xL0C2woCEg",
        "colab_type": "code",
        "colab": {}
      },
      "source": [
        "## CODE CELL 59\n",
        "# Sorting also works on numbers\n",
        "\n",
        "newList = [3,53,7,768,7,4,563]\n",
        "newList.sort()\n",
        "newList"
      ],
      "execution_count": 0,
      "outputs": []
    },
    {
      "cell_type": "markdown",
      "metadata": {
        "id": "xi-FRch4oCEi",
        "colab_type": "text"
      },
      "source": [
        "You can even create a list of lists."
      ]
    },
    {
      "cell_type": "code",
      "metadata": {
        "id": "YvQn0FH9oCEj",
        "colab_type": "code",
        "colab": {}
      },
      "source": [
        "## CODE CELL 60\n",
        "# Indexing with a list of lists\n",
        "\n",
        "nestedList = [[1,2,3],[2,4,6],[3,6,9],[4,8,12]]\n",
        "print(nestedList[0])"
      ],
      "execution_count": 0,
      "outputs": []
    },
    {
      "cell_type": "code",
      "metadata": {
        "id": "yD2buLAIoCEm",
        "colab_type": "code",
        "colab": {}
      },
      "source": [
        "## CODE CELL 61\n",
        "# Accessing a single element in a sublist\n",
        "\n",
        "print(nestedList[0][2])"
      ],
      "execution_count": 0,
      "outputs": []
    },
    {
      "cell_type": "code",
      "metadata": {
        "id": "pSoKfitLoCEq",
        "colab_type": "code",
        "colab": {}
      },
      "source": [
        "## CODE CELL 62\n",
        "# Slicing\n",
        "\n",
        "print(nestedList[:2])"
      ],
      "execution_count": 0,
      "outputs": []
    },
    {
      "cell_type": "markdown",
      "metadata": {
        "id": "gT7o2aIPoCEt",
        "colab_type": "text"
      },
      "source": [
        "There's a lot you can do with lists. A brief overview can be found here: https://www.tutorialspoint.com/python/python_lists.htm; full documentation can be found at the official Python documentation page."
      ]
    },
    {
      "cell_type": "markdown",
      "metadata": {
        "collapsed": true,
        "id": "QX4K9CUSoCEu",
        "colab_type": "text"
      },
      "source": [
        "**Exercise 2:**\n",
        "\n",
        "You have a class of students whose scores on the last exam were as follows: 89, 79, 83, 85, 95, 50, 77, 90, 100, 91, 69, 87, 93, 88. Find the median score by taking the average of the two \"middle\" scores. \n",
        "\n",
        "*Hint: First, sort the scores. To find the locations of the \"middle\" scores, first determine the number of scores you're dealing with using the len() function.*"
      ]
    },
    {
      "cell_type": "markdown",
      "metadata": {
        "id": "AkDjk6JEoCEw",
        "colab_type": "text"
      },
      "source": [
        "**Answer 2:**"
      ]
    },
    {
      "cell_type": "code",
      "metadata": {
        "id": "NS4rRgMgoCEx",
        "colab_type": "code",
        "colab": {}
      },
      "source": [
        "## CODE CELL 63\n",
        "\n",
        "scores = [89, 79, 83, 85, 95, 50, 77, 90, 100, 91, 69, 87, 93, 88]\n",
        "\n",
        "## ENTER CODE HERE \n"
      ],
      "execution_count": 0,
      "outputs": []
    },
    {
      "cell_type": "markdown",
      "metadata": {
        "collapsed": true,
        "id": "SKXzgM3FoCEz",
        "colab_type": "text"
      },
      "source": [
        "*Note:*\n",
        "\n",
        "Jupyter Notebook is a more interactive environment, and that means that you can get away with just typing the name of a variable and running the cell to get the value stored in that variable as output. If you're writing code in a script (e.g. a .py file such as those created in the IDLE or Spyder Python environments), you will need to use the `print()` function to explicitly show the \"contents\" of the variable."
      ]
    },
    {
      "cell_type": "markdown",
      "metadata": {
        "id": "gcJbnUH-TeWu",
        "colab_type": "text"
      },
      "source": [
        "## Now the real fun begins...\n",
        "Before we start playing with data files, we need to cover one more really important section.\n",
        "### Loops, conditionals, and functions\n",
        "If you have used a progamming language before, you're probably familiar with the for-loop. For everyone else, a for-loop is a way of iterating through a data structure - a string, a list, a dictionary, etc. - or file. It's a way to execute the same piece of code multiple times with a parameter being updated on every iteration.\n",
        "What is data structure? In computer science, a data structure is a data organization, management, and storage format that enables efficient access and modification. "
      ]
    },
    {
      "cell_type": "code",
      "metadata": {
        "id": "oCEmDNmdTmyb",
        "colab_type": "code",
        "colab": {}
      },
      "source": [
        "## CODE CELL 64\n",
        "# The go-to first example of a for-loop\n",
        "\n",
        "for i in [1, 2, 3, 4, 5, 6, 7, 8, 9, 10]:\n",
        "    print(i)"
      ],
      "execution_count": 0,
      "outputs": []
    },
    {
      "cell_type": "markdown",
      "metadata": {
        "id": "6XkbX0mhTx3L",
        "colab_type": "text"
      },
      "source": [
        "The `range()` function is useful here. It can be given up to three parameters: $([start], stop, [step])$ (brackets indicate optional parameters). As with slicing in strings and lists, the loop will stop at $stop-1$."
      ]
    },
    {
      "cell_type": "code",
      "metadata": {
        "id": "Q5dLuaW2T9TM",
        "colab_type": "code",
        "colab": {}
      },
      "source": [
        "## CODE CELL 65\n",
        "# Do the above more efficiently using the \"range\" function:\n",
        "## End at stop-1\n",
        "\n",
        "for i in range(1,11, 2):\n",
        "    print(i)"
      ],
      "execution_count": 0,
      "outputs": []
    },
    {
      "cell_type": "markdown",
      "metadata": {
        "id": "cM59h0C4UYuD",
        "colab_type": "text"
      },
      "source": [
        "You may be wondering why we chose the letter \"i\" to iterate through the lists above. The answer is that it's just convention - letters like \"i\" and \"j\" are often used for iteration, but in practice, you can use any letters, letter + number combinations, or even an underscore."
      ]
    },
    {
      "cell_type": "markdown",
      "metadata": {
        "id": "vJUbSvDMUfI4",
        "colab_type": "text"
      },
      "source": [
        "One common use of a for-loop is to iteratively append elements to a list."
      ]
    },
    {
      "cell_type": "code",
      "metadata": {
        "id": "NR8U6RaZUPZN",
        "colab_type": "code",
        "colab": {}
      },
      "source": [
        "## CODE CELL 66\n",
        "# What are the first ten multiples of 3?\n",
        "\n",
        "multiples = []    # initializing list\n",
        "for i in range(1,11):\n",
        "    multiples.append(3*i)\n",
        "\n",
        "print(multiples)"
      ],
      "execution_count": 0,
      "outputs": []
    },
    {
      "cell_type": "markdown",
      "metadata": {
        "id": "j6SnS1nuUyIh",
        "colab_type": "text"
      },
      "source": [
        "You can also use multiple layers of loops (called \"nested loops\")."
      ]
    },
    {
      "cell_type": "code",
      "metadata": {
        "id": "W6je6pRjUhqn",
        "colab_type": "code",
        "colab": {}
      },
      "source": [
        "## CODE CELL 67\n",
        "# What are the first five multiples of numbers 10-14?\n",
        "\n",
        "for i in range(10,15):\n",
        "    myList = []\n",
        "    for j in range(1,6):\n",
        "        myList.append(i*j)\n",
        "    print(myList)"
      ],
      "execution_count": 0,
      "outputs": []
    },
    {
      "cell_type": "markdown",
      "metadata": {
        "id": "RMFPjy9qU55x",
        "colab_type": "text"
      },
      "source": [
        "As you begin writing more complex code, you may find it helpful to use this step-by-step visualization tool: http://pythontutor.com/visualize.html#. (DEMO)"
      ]
    },
    {
      "cell_type": "markdown",
      "metadata": {
        "id": "F6WmoQzhWCfP",
        "colab_type": "text"
      },
      "source": [
        "What if we want to control what code gets executed based on certain conditions? That's where conditional statements come in. Let's look at some operators you'll likely use:"
      ]
    },
    {
      "cell_type": "code",
      "metadata": {
        "id": "YfrQrsmBWGWQ",
        "colab_type": "code",
        "colab": {}
      },
      "source": [
        "## CODE CELL 68\n",
        "\n",
        "print(3 < 4)    # less than"
      ],
      "execution_count": 0,
      "outputs": []
    },
    {
      "cell_type": "code",
      "metadata": {
        "id": "02vEXmN8WKZp",
        "colab_type": "code",
        "colab": {}
      },
      "source": [
        "## CODE CELL 69\n",
        "\n",
        "print(4 <= 4)    # less than or equal to"
      ],
      "execution_count": 0,
      "outputs": []
    },
    {
      "cell_type": "code",
      "metadata": {
        "id": "kCIFqwdSWOjj",
        "colab_type": "code",
        "colab": {}
      },
      "source": [
        "## CODE CELL 70\n",
        "\n",
        "print('a' == 'A')    # equal to"
      ],
      "execution_count": 0,
      "outputs": []
    },
    {
      "cell_type": "code",
      "metadata": {
        "id": "Mwdb1W5kWhwt",
        "colab_type": "code",
        "colab": {}
      },
      "source": [
        "## CODE CELL 71\n",
        "\n",
        "print(4 != 4)    # not equal to"
      ],
      "execution_count": 0,
      "outputs": []
    },
    {
      "cell_type": "code",
      "metadata": {
        "id": "aR86Gg2iWlBr",
        "colab_type": "code",
        "colab": {}
      },
      "source": [
        "## CODE CELL 72\n",
        "\n",
        "print(2 >= 10)     # greater than or equal to"
      ],
      "execution_count": 0,
      "outputs": []
    },
    {
      "cell_type": "code",
      "metadata": {
        "id": "eCWfblk8Woy9",
        "colab_type": "code",
        "colab": {}
      },
      "source": [
        "## CODE CELL 73\n",
        "\n",
        "print('a' > 'A')    # greater than"
      ],
      "execution_count": 0,
      "outputs": []
    },
    {
      "cell_type": "markdown",
      "metadata": {
        "id": "RXubOk88WqzS",
        "colab_type": "text"
      },
      "source": [
        "You may have noticed some unexpected behavior. When comparing strings, these operators indicate how Python sorts them lexicographically - 'a', 'b', etc. come *after* 'A', 'B', etc."
      ]
    },
    {
      "cell_type": "markdown",
      "metadata": {
        "id": "k5LHvyijW3tJ",
        "colab_type": "text"
      },
      "source": [
        "The return values of True/False are called \"Booleans\". These are actual values that can be assigned to a variable:"
      ]
    },
    {
      "cell_type": "code",
      "metadata": {
        "id": "YIlt-1dZW7Uk",
        "colab_type": "code",
        "colab": {}
      },
      "source": [
        "## CODE CELL 74\n",
        "\n",
        "var = True\n",
        "new_var = False\n",
        "\n",
        "print('var:', var, '\\nnew_var:', new_var)"
      ],
      "execution_count": 0,
      "outputs": []
    },
    {
      "cell_type": "markdown",
      "metadata": {
        "id": "gWNCOna6XGdf",
        "colab_type": "text"
      },
      "source": [
        "In Part 1, we saw another case where the result was a Boolean; we were checking if \"Orlando\" was in the $topcities$ list. The `in` and `not in` membership checks return True or False.``"
      ]
    },
    {
      "cell_type": "markdown",
      "metadata": {
        "id": "3rpoTV5iXKY5",
        "colab_type": "text"
      },
      "source": [
        "Now, we can implement some of these comparisons in what's called an if-else statement. The gist of it is this: if {some condition}, execute some code; for all other cases, execute some other code."
      ]
    },
    {
      "cell_type": "code",
      "metadata": {
        "id": "iEozDowNXNAq",
        "colab_type": "code",
        "colab": {}
      },
      "source": [
        "## CODE CELL 75\n",
        "# On which days could we potentially have a picnic?\n",
        "\n",
        "forecast7Day = ['rain', 'mostly cloudy', 'rain', 'mostly cloudy', 'sunny', 'partly cloudy', 'rain']\n",
        "picnic = []\n",
        "for i in forecast7Day:\n",
        "    if i == 'rain':\n",
        "        picnic.append('no')\n",
        "    else:\n",
        "        picnic.append('yes')\n",
        "        \n",
        "print(picnic)"
      ],
      "execution_count": 0,
      "outputs": []
    },
    {
      "cell_type": "markdown",
      "metadata": {
        "id": "8P3Q6CbZXUbn",
        "colab_type": "text"
      },
      "source": [
        "We can include more \"options\" by incorporating \"elif\" statements."
      ]
    },
    {
      "cell_type": "code",
      "metadata": {
        "id": "Prs2O_Y9Xc2P",
        "colab_type": "code",
        "colab": {}
      },
      "source": [
        "## CODE CELL 76\n",
        "# How many layers do I need to wear for the next few days?\n",
        "\n",
        "forecastTemps = [50, 59, 72, 74, 60, 62, 63]\n",
        "layers = []\n",
        "for i in forecastTemps:\n",
        "    if i < 60:\n",
        "        layers.append('wear a jacket')\n",
        "    elif i >= 70:\n",
        "        layers.append(\"don't need a jacket or sweater\")\n",
        "    else:\n",
        "        layers.append('wear a sweater')\n",
        "\n",
        "print(layers)"
      ],
      "execution_count": 0,
      "outputs": []
    },
    {
      "cell_type": "markdown",
      "metadata": {
        "id": "JndVvKPVXn7N",
        "colab_type": "text"
      },
      "source": [
        "You can incorporate as many elif statements as you'd like."
      ]
    },
    {
      "cell_type": "markdown",
      "metadata": {
        "id": "xjSPeQusXq90",
        "colab_type": "text"
      },
      "source": [
        "One last type of control structure - the while-loop. The general structure is the following: while {some condition}, execute some code. Iteration will continue until that condition is no longer true."
      ]
    },
    {
      "cell_type": "code",
      "metadata": {
        "id": "vf_nEOyMXtl4",
        "colab_type": "code",
        "colab": {}
      },
      "source": [
        "## CODE CELL 77\n",
        "# Using up a gift card\n",
        "\n",
        "balance = 110     # initial balance = $110\n",
        "while balance - 20 >= 0:\n",
        "    print('Your balance is now $' + str(balance))\n",
        "    balance -= 20    # using up $20 for each purchase\n",
        "print('Final balance: $' + str(balance))"
      ],
      "execution_count": 0,
      "outputs": []
    },
    {
      "cell_type": "markdown",
      "metadata": {
        "id": "K9jhTPxzX0rq",
        "colab_type": "text"
      },
      "source": [
        "Finally, functions. Functions are extremely useful for when you want to execute a section of code repeatedly, but with parameters (called \"arguments\") for which values can be defined when the function is called. Functions are defined with `def` and then a user-provided name."
      ]
    },
    {
      "cell_type": "code",
      "metadata": {
        "id": "HCdhtl5WXzpr",
        "colab_type": "code",
        "colab": {}
      },
      "source": [
        "## CODE CELL 78\n",
        "# A function to generalize the gift card code in the previous example\n",
        "\n",
        "def giftCard(init_balance, purchase_size):    # this function has two arguments\n",
        "    balance = init_balance\n",
        "    while balance - purchase_size >= 0:\n",
        "        print('Your balance is now $' + str(balance))\n",
        "        balance -= purchase_size\n",
        "    print( 'Final balance: $' + str(balance))"
      ],
      "execution_count": 0,
      "outputs": []
    },
    {
      "cell_type": "markdown",
      "metadata": {
        "id": "yBKPoJgKX8Gm",
        "colab_type": "text"
      },
      "source": [
        "What happened when you ran the previous cell?\n",
        "\n",
        "In order to use the function, we have to call it."
      ]
    },
    {
      "cell_type": "code",
      "metadata": {
        "id": "XSwgq6AZX7Pu",
        "colab_type": "code",
        "colab": {}
      },
      "source": [
        "## CODE CELL 79\n",
        "# Calling the giftCard function\n",
        "\n",
        "newCard = giftCard(200, 50)    # initial balance = $200, purchase_size = $50\n",
        "print(newCard)"
      ],
      "execution_count": 0,
      "outputs": []
    },
    {
      "cell_type": "markdown",
      "metadata": {
        "id": "5AVBlhmpYYOz",
        "colab_type": "text"
      },
      "source": [
        "Try calling `giftCard()` with different parameters.\n",
        "\n",
        "\n",
        "**Exercise 3:**\n",
        "\n",
        "How many words are in the first sentence of Charles Dickens's *Oliver Twist*? How many times does the word \"which\" appear?\n",
        "\n",
        "*Hint: The punctuation characters in this paragraph are given in the remove_punc list. Think about using the `replace` and `split` string methods from Part 1 of the workshop to get a list of words without punctuation.*"
      ]
    },
    {
      "cell_type": "code",
      "metadata": {
        "id": "SRQqNK4LYg6E",
        "colab_type": "code",
        "colab": {}
      },
      "source": [
        "## CODE CELL 17\n",
        "\n",
        "oliverT = '''Among other public buildings in a certain town, which for many reasons\n",
        "it will be prudent to refrain from mentioning, and to which I will\n",
        "assign no fictitious name, there is one anciently common to most towns,\n",
        "great or small: to wit, a workhouse; and in this workhouse was born; on\n",
        "a day and date which I need not trouble myself to repeat, inasmuch as\n",
        "it can be of no possible consequence to the reader, in this stage of\n",
        "the business at all events; the item of mortality whose name is\n",
        "prefixed to the head of this chapter.'''\n",
        "\n",
        "remove_punc = [',', ':', ';', '.']\n",
        "\n",
        "## ENTER CODE HERE"
      ],
      "execution_count": 0,
      "outputs": []
    },
    {
      "cell_type": "markdown",
      "metadata": {
        "id": "UhYqwXR5oCE0",
        "colab_type": "text"
      },
      "source": [
        "*References*:\n",
        "\n",
        "The following materials were consulted during development of this notebook:\n",
        "\n",
        "J. Zelle, *Python Programming: An Introduction to Computer Science*, 2nd ed. Sherwood, Oregon: Franklin, Beedle & Associates Inc., 2010.\n",
        "\n",
        "Python 3 Documentation from the Python Software Foundation: https://docs.python.org/3/"
      ]
    }
  ]
}
